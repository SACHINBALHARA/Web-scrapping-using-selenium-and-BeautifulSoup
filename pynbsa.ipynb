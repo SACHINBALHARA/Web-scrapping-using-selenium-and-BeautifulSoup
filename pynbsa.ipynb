{
  "nbformat": 4,
  "nbformat_minor": 0,
  "metadata": {
    "colab": {
      "provenance": []
    },
    "kernelspec": {
      "name": "python3",
      "display_name": "Python 3"
    },
    "language_info": {
      "name": "python"
    }
  },
  "cells": [
    {
      "cell_type": "code",
      "execution_count": null,
      "metadata": {
        "id": "W9muDY8uCPBc",
        "colab": {
          "base_uri": "https://localhost:8080/"
        },
        "outputId": "b522a6cd-79fb-470e-ef7a-5759245474a9"
      },
      "outputs": [
        {
          "output_type": "execute_result",
          "data": {
            "text/plain": [
              "15"
            ]
          },
          "metadata": {},
          "execution_count": 3
        }
      ],
      "source": [
        "x=5\n",
        "x&=15\n",
        "x\n",
        "x|=10\n",
        "x"
      ]
    },
    {
      "cell_type": "code",
      "source": [],
      "metadata": {
        "id": "8dbVyCxcmcEd"
      },
      "execution_count": null,
      "outputs": []
    },
    {
      "cell_type": "markdown",
      "source": [
        "## Introduction\n",
        "Python is an interpreted, object-oriented, high-level programming language with dynamic semantics. Its high-level built in data structures, combined with dynamic typing and dynamic binding, make it very attractive for Rapid Application Development, as well as for use as a scripting or glue language to connect existing components together. Python's simple, easy to learn syntax emphasizes readability and therefore reduces the cost of program maintenance. Python supports modules and packages, which encourages program modularity and code reuse. The Python interpreter and the extensive standard library are available in source or binary form without charge for all major platforms, and can be freely distributed.\n",
        "\n",
        "\n",
        "\n",
        "\n",
        "\n",
        "\n"
      ],
      "metadata": {
        "id": "GCkyYdRhCJjt"
      }
    },
    {
      "cell_type": "markdown",
      "source": [
        "Python is a great general-purpose programming language on its own, but with the help of a few popular libraries (numpy, scipy, matplotlib) it becomes a powerful environment for scientific computing."
      ],
      "metadata": {
        "id": "8bUx8lzaCo7A"
      }
    },
    {
      "cell_type": "markdown",
      "source": [
        "## Python Version\n",
        "### Python 2\n",
        "Published in late 2000, Python 2 signalled a more transparent and inclusive language development process than earlier versions of Python with the implementation of PEP (Python Enhancement Proposal), a technical specification that either provides information to Python community members or describes a new feature of the language.\n",
        "\n",
        "Additionally, Python 2 included many more programmatic features including a cycle-detecting garbage collector to automate memory management, increased Unicode support to standardize characters, and list comprehensions to create a list based on existing lists. As Python 2 continued to develop, more features were added, including unifying Python’s types and classes into one hierarchy in Python version 2.2.\n",
        "\n",
        "\n",
        "### Python 3\n",
        "\n",
        "Python 3 is regarded as the future of Python and is the version of the language that is currently in development. A major overhaul, Python 3 was released in late 2008 to address and amend intrinsic design flaws of previous versions of the language. The focus of Python 3 development was to clean up the codebase and remove redundancy, making it clear that there was only one way to perform a given task.\n",
        "\n",
        "Major modifications to Python 3.0 included changing the print statement into a built-in function, improve the way integers are divided, and providing more Unicode support.\n",
        "\n",
        "At first, Python 3 was slowly adopted due to the language not being backwards compatible with Python 2, requiring people to make a decision as to which version of the language to use. Additionally, many package libraries were only available for Python 2, but as the development team behind Python 3 has reiterated that there is an end of life for Python 2 support, more libraries have been ported to Python 3. The increased adoption of Python 3 can be shown by the number of Python packages that now provide Python 3 support, which at the time of writing includes 339 of the 360 most popular Python packages.\n",
        "\n",
        "### Python 2.7\n",
        "\n",
        "Following the 2008 release of Python 3.0, Python 2.7 was published on July 3, 2010 and planned as the last of the 2.x releases. The intention behind Python 2.7 was to make it easier for Python 2.x users to port features over to Python 3 by providing some measure of compatibility between the two. This compatibility support included enhanced modules for version 2.7 like unittest to support test automation, argparse for parsing command-line options, and more convenient classes in collections.\n",
        "\n",
        "Because of Python 2.7’s unique position as a version in between the earlier iterations of Python 2 and Python 3.0, it has persisted as a very popular choice for programmers due to its compatibility with many robust libraries. When we talk about Python 2 today, we are typically referring to the Python 2.7 release as that is the most frequently used version.\n",
        "\n",
        "Python 2.7, however, is considered to be a legacy language and its continued development, which today mostly consists of bug fixes, will cease completely in 2020.\n",
        "\n",
        "### Key Differences\n",
        "While Python 2.7 and Python 3 share many similar capabilities, they should not be thought of as entirely interchangeable. Though you can write good code and useful programs in either version, it is worth understanding that there will be some considerable differences in code syntax and handling.\n",
        "\n"
      ],
      "metadata": {
        "id": "xM4XUc2UCiqD"
      }
    },
    {
      "cell_type": "markdown",
      "source": [
        "\n",
        "## Anaconda Python Distribution\n",
        "Anaconda is an open-source package manager, environment manager, and distribution of the Python and R programming languages. It is commonly used for large-scale data processing, scientific computing, and predictive analytics, serving data scientists, developers, business analysts, and those working in DevOps.\n",
        "\n",
        "Anaconda offers a collection of over 720 open-source packages, and is available in both free and paid versions. The Anaconda distribution ships with the conda command-line utility. You can learn more about Anaconda and conda by reading the Anaconda Documentation pages."
      ],
      "metadata": {
        "id": "k31q_mTHC6ZK"
      }
    },
    {
      "cell_type": "markdown",
      "source": [
        "\n",
        "### Why Anaconda?\n",
        "* User level install of the version of python you want\n",
        "* Able to install/update packages completely independent of system libraries or admin privileges\n",
        "* conda tool installs binary packages, rather than requiring compile resources like pip - again, handy if you have limited privileges for installing necessary libraries.\n",
        "* More or less eliminates the headaches of trying to figure out which version/release of package X is compatible with which version/release of package Y, both of which are required for the install of package Z\n",
        "* Comes either in full-meal-deal version, with numpy, scipy, PyQt, spyder IDE, etc. or in minimal / alacarte version (miniconda) where you can install what you want, when you need it\n",
        "* No risk of messing up required system libraries"
      ],
      "metadata": {
        "id": "h256r6cPDAba"
      }
    },
    {
      "cell_type": "markdown",
      "source": [
        "## What are Jupyter notebook?"
      ],
      "metadata": {
        "id": "fK-Asju7DQCM"
      }
    },
    {
      "cell_type": "markdown",
      "source": [
        "\n",
        "The notebook is a web application that allows you to combine explanatory text, math equations, code, and visualizations all in one easily sharable document.\n",
        "\n",
        "Notebooks have quickly become an essential tool when working with data. You'll find them being used for data cleaning and exploration, visualization, machine learning, and big data analysis. Typically you'd be doing this work in a terminal, either the normal Python shell or with IPython. Your visualizations would be in separate windows, any documentation would be in separate documents, along with various scripts for functions and classes. However, with notebooks, all of these are in one place and easily read together.\n",
        "\n",
        "Notebooks are also rendered automatically on GitHub. It’s a great feature that lets you easily share your work. There is also [http://nbviewer.jupyter.org/](http://nbviewer.jupyter.org/) that renders the notebooks from your GitHub repo or from notebooks stored elsewhere.\n"
      ],
      "metadata": {
        "id": "Qv0VWyAiDSdC"
      }
    },
    {
      "cell_type": "markdown",
      "source": [
        "## How notebook works?\n"
      ],
      "metadata": {
        "id": "YUzxxQ-XDidq"
      }
    },
    {
      "cell_type": "markdown",
      "source": [
        "Jupyter notebooks grew out of the IPython project started by Fernando Perez. IPython is an interactive shell, similar to the normal Python shell but with great features like syntax highlighting and code completion. Originally, notebooks worked by sending messages from the web app (the notebook you see in the browser) to an IPython kernel (an IPython application running in the background). The kernel executed the code, then sent it back to the notebook. The current architecture is similar, drawn out below.\n",
        "<img src=\"Images/notebook-components.png\">\n",
        "\n",
        "\n",
        "The central point is the notebook server. You connect to the server through your browser and the notebook is rendered as a web app. Code you write in the web app is sent through the server to the kernel. The kernel runs the code and sends it back to the server, then any output is rendered back in the browser. When you save the notebook, it is written to the server as a JSON file with a .ipynb file extension.\n",
        "\n",
        "The great part of this architecture is that the kernel doesn't need to run Python. Since the notebook and the kernel are separate, code in any language can be sent between them. For example, two of the earlier non-Python kernels were for the R and Julia languages. With an R kernel, code written in R will be sent to the R kernel where it is executed, exactly the same as Python code running on a Python kernel. IPython notebooks were renamed because notebooks became language agnostic. The new name Jupyter comes from the combination of Julia, Python, and R. If you're interested, here's a list of available kernels.\n",
        "\n",
        "Another benefit is that the server can be run anywhere and accessed via the internet. Typically you'll be running the server on your own machine where all your data and notebook files are stored. But, you could also set up a server on a remote machine or cloud instance like Amazon's EC2. Then, you can access the notebooks in your browser from anywhere in the world.\n",
        "\n"
      ],
      "metadata": {
        "id": "SXGVbtmvDk4x"
      }
    },
    {
      "cell_type": "markdown",
      "source": [
        "## Basics of Python"
      ],
      "metadata": {
        "id": "P70HG047DrfG"
      }
    },
    {
      "cell_type": "markdown",
      "source": [
        "\n",
        "Python is a high-level, dynamically typed multiparadigm programming language. Python code is often said to be almost like pseudocode, since it allows you to express very powerful ideas in very few lines of code while being very readable. As an example, here is an implementation of the classic quicksort algorithm in Python:"
      ],
      "metadata": {
        "id": "SLLrIubiDv3-"
      }
    },
    {
      "cell_type": "markdown",
      "source": [
        "### Fundamental types"
      ],
      "metadata": {
        "id": "wC-YBbVrD-Og"
      }
    },
    {
      "cell_type": "markdown",
      "source": [
        "### Integers\n",
        "\n",
        "Integer literals are created by any number without a decimal or complex component."
      ],
      "metadata": {
        "id": "vvC8-QxREDuf"
      }
    },
    {
      "cell_type": "code",
      "source": [
        "a=10\n",
        "b=20\n",
        "c=30\n"
      ],
      "metadata": {
        "id": "XhO9-0bvRap9"
      },
      "execution_count": null,
      "outputs": []
    },
    {
      "cell_type": "code",
      "source": [
        "type(a)"
      ],
      "metadata": {
        "colab": {
          "base_uri": "https://localhost:8080/"
        },
        "id": "_9606uIFRdwR",
        "outputId": "4789afc2-641c-4e82-9d35-207f66a0ccd4"
      },
      "execution_count": null,
      "outputs": [
        {
          "output_type": "execute_result",
          "data": {
            "text/plain": [
              "int"
            ]
          },
          "metadata": {},
          "execution_count": 2
        }
      ]
    },
    {
      "cell_type": "markdown",
      "source": [
        "### Floats\n",
        "\n",
        "Float literals can be created by adding a decimal component to a number."
      ],
      "metadata": {
        "id": "-ySSujPvEITe"
      }
    },
    {
      "cell_type": "code",
      "source": [
        "a=20.0\n",
        "b=30.0\n",
        "type(a)"
      ],
      "metadata": {
        "colab": {
          "base_uri": "https://localhost:8080/"
        },
        "id": "cqidmsWARmJP",
        "outputId": "bb82d780-ea90-42b9-870a-9017160b0d4b"
      },
      "execution_count": null,
      "outputs": [
        {
          "output_type": "execute_result",
          "data": {
            "text/plain": [
              "float"
            ]
          },
          "metadata": {},
          "execution_count": 6
        }
      ]
    },
    {
      "cell_type": "markdown",
      "source": [
        "### Boolean\n",
        "\n",
        "Boolean can be defined by typing True/False without quotes"
      ],
      "metadata": {
        "id": "QlK574oGEPN7"
      }
    },
    {
      "cell_type": "code",
      "source": [
        "a=True\n",
        "b=False\n",
        "type(a)"
      ],
      "metadata": {
        "colab": {
          "base_uri": "https://localhost:8080/"
        },
        "id": "dLese4AjRzrm",
        "outputId": "4fd87a26-9c9c-4de2-cadf-055b962bcee3"
      },
      "execution_count": null,
      "outputs": [
        {
          "output_type": "execute_result",
          "data": {
            "text/plain": [
              "bool"
            ]
          },
          "metadata": {},
          "execution_count": 7
        }
      ]
    },
    {
      "cell_type": "markdown",
      "source": [
        "### Strings\n",
        "\n",
        "String literals can be defined with any of single quotes ('), double quotes (\") or triple quotes (''' or \"\"\"). All give the same result with two important differences.\n",
        "\n",
        "If you quote with single quotes, you do not have to escape double quotes and vice-versa.\n",
        "If you quote with triple quotes, your string can span multiple lines."
      ],
      "metadata": {
        "id": "hwG8tMZLEQDz"
      }
    },
    {
      "cell_type": "code",
      "source": [
        "string='hello'\n",
        "str1=\"hi\"\n",
        "str2='''hello\n",
        ";ddfsdfsdf\n",
        "sdfsdfsdf\n",
        "sdfsdfsdf'''\n",
        "print(type(string))\n",
        "print(type(str1))\n",
        "print(type(str2))\n",
        "string='12343453452345'\n",
        "print(str2)"
      ],
      "metadata": {
        "colab": {
          "base_uri": "https://localhost:8080/"
        },
        "id": "N7PFdS7mSHMR",
        "outputId": "a664b803-5b78-49f4-8935-a66bc2284a77"
      },
      "execution_count": null,
      "outputs": [
        {
          "output_type": "stream",
          "name": "stdout",
          "text": [
            "<class 'str'>\n",
            "<class 'str'>\n",
            "<class 'str'>\n",
            "hello\n",
            ";ddfsdfsdf\n",
            "sdfsdfsdf\n",
            "sdfsdfsdf\n"
          ]
        }
      ]
    },
    {
      "cell_type": "markdown",
      "source": [
        "### Complex\n",
        "\n",
        "Complex literals can be created by using the notation x + yj where x is the real component and y is the imaginary component."
      ],
      "metadata": {
        "id": "NycMX7pREV_x"
      }
    },
    {
      "cell_type": "markdown",
      "source": [
        "### Variables\n",
        "\n",
        "#### Definining\n",
        "\n",
        "A variable in Python is defined through assignment. There is no concept of declaring a variable outside of that assignment."
      ],
      "metadata": {
        "id": "V-F8CxPqEWnZ"
      }
    },
    {
      "cell_type": "markdown",
      "source": [
        "#### Dynamic Typing\n",
        "\n",
        "In Python, while the value that a variable points to has a type, the variable itself has no strict type in its definition. You can re-use the same variable to point to an object of a different type. It may be helpful to think of variables as \"labels\" associated with objects."
      ],
      "metadata": {
        "id": "RKCn03BgEflM"
      }
    },
    {
      "cell_type": "markdown",
      "source": [
        "#### Strong Typing\n",
        "\n",
        "While Python allows you to be very flexible with your types, you must still be aware of what those types are. Certain operations will require certain types as arguments."
      ],
      "metadata": {
        "id": "ZAuxpHbYEjCu"
      }
    },
    {
      "cell_type": "markdown",
      "source": [
        "\n",
        "In Python, however, it is possible to change the type of an object through builtin functions."
      ],
      "metadata": {
        "id": "7dlGrC32EkXj"
      }
    },
    {
      "cell_type": "markdown",
      "source": [
        "## Simple Expressions\n",
        "\n",
        "### Boolean Evaluation\n",
        "\n",
        "Boolean expressions are created with the keywords and, or, not and is. For example:"
      ],
      "metadata": {
        "id": "OmdZexefErLR"
      }
    },
    {
      "cell_type": "code",
      "source": [
        "a=True\n",
        "b=False\n",
        "if(a and b)"
      ],
      "metadata": {
        "id": "NtkNP0kBsw6M"
      },
      "execution_count": null,
      "outputs": []
    },
    {
      "cell_type": "markdown",
      "source": [
        "## Branching (if / elif / else)\n",
        "\n",
        "Python provides the if statement to allow branching based on conditions. Multiple elif checks can also be performed followed by an optional else clause. The if statement can be used with any evaluation of truthiness."
      ],
      "metadata": {
        "id": "iPuRjwirExIy"
      }
    },
    {
      "cell_type": "code",
      "source": [
        "a=20\n",
        "b=30\n",
        "#comparison operators\n",
        "#equal to operator (==)\n",
        "#greater than operator(>)\n",
        "#<,<=,>=,!,!=\n",
        "if(a==b):\n",
        "  print(\"A and B both are equal\")\n",
        "elif(a<b):\n",
        "  print(\"A is less than B\")\n",
        "else:\n",
        "  print(\"A is greater than B\")\n",
        "#\\\\172.26.22.210"
      ],
      "metadata": {
        "colab": {
          "base_uri": "https://localhost:8080/"
        },
        "id": "r5aZp3_PgKFY",
        "outputId": "84c898ed-1726-4c84-fec6-b838a135ad28"
      },
      "execution_count": null,
      "outputs": [
        {
          "output_type": "stream",
          "name": "stdout",
          "text": [
            "A is less than B\n"
          ]
        }
      ]
    },
    {
      "cell_type": "code",
      "source": [
        "#NEsted If else\n",
        "num=20\n",
        "if(num>=0):\n",
        "  #EXecutes when condition is true\n",
        "  if(num==0):\n",
        "    #executes when condition1 is true\n",
        "    print(\"Value of num is zero\")\n",
        "  elif(num>10 and num< 20):\n",
        "    #executes when condition1 is false\n",
        "    print(\"value of num is in between 10 and 20:\", num)\n",
        "  else:\n",
        "    print(\"Value of num is greater than twenty or less than 10:\", num)\n",
        "else:\n",
        "  #executes when condition is false\n",
        "  print(\"num is a negative number\")"
      ],
      "metadata": {
        "colab": {
          "base_uri": "https://localhost:8080/"
        },
        "id": "0ucGVvf2i8Ud",
        "outputId": "9db79ce2-e9d1-40be-e977-f0e9638fa5e3"
      },
      "execution_count": null,
      "outputs": [
        {
          "output_type": "stream",
          "name": "stdout",
          "text": [
            "Value of num is greater than zero: 20\n"
          ]
        }
      ]
    },
    {
      "cell_type": "code",
      "source": [
        "#write a program to check if a person age is greater than 18 or less than 25 or not"
      ],
      "metadata": {
        "id": "ooGxTTtxk9qO"
      },
      "execution_count": null,
      "outputs": []
    },
    {
      "cell_type": "markdown",
      "source": [
        "## Block Structure and Whitespace\n",
        "\n",
        "The code that is executed when a specific condition is met is defined in a \"block.\" In Python, the block structure is signalled by changes in indentation. Each line of code in a certain block level must be indented equally and indented more than the surrounding scope. The standard (defined in PEP-8) is to use 4 spaces for each level of block indentation. Statements preceding blocks generally end with a colon (:).\n",
        "\n",
        "Because there are no semi-colons or other end-of-line indicators in Python, breaking lines of code requires either a continuation character (\\ as the last char) or for the break to occur inside an unfinished structure (such as open parentheses).\n",
        "\n"
      ],
      "metadata": {
        "id": "3or55XBOE6Pk"
      }
    },
    {
      "cell_type": "markdown",
      "source": [
        "## Advanced Types: Containers\n",
        "\n",
        "One of the great advantages of Python as a programming language is the ease with which it allows you to manipulate containers. Containers (or collections) are an integral part of the language and, as you’ll see, built in to the core of the language’s syntax. As a result, thinking in a Pythonic manner means thinking about containers.\n",
        "\n",
        "### Lists\n",
        "\n",
        "The first container type that we will look at is the list. A list represents an ordered, mutable collection of objects. You can mix and match any type of object in a list, add to it and remove from it at will.\n",
        "\n",
        "Creating Empty Lists. To create an empty list, you can use empty square brackets or use the list() function with no arguments.\n",
        "\n"
      ],
      "metadata": {
        "id": "fMng4O6AE-UP"
      }
    },
    {
      "cell_type": "markdown",
      "source": [
        "Initializing Lists. You can initialize a list with content of any sort using the same square bracket notation. The list() function also takes an iterable as a single argument and returns a shallow copy of that iterable as a new list. A list is one such iterable as we’ll see soon, and we’ll see others later."
      ],
      "metadata": {
        "id": "tmgOTO6BFFRd"
      }
    },
    {
      "cell_type": "markdown",
      "source": [
        "##Python Strings\n",
        "A Python string is also a sequence of characters and can be treated as an iterable over those characters. Combined with the list() function, a new list of the characters can easily be generated."
      ],
      "metadata": {
        "id": "KplU3Py-FO7g"
      }
    },
    {
      "cell_type": "markdown",
      "source": [
        "Adding. You can append to a list very easily (add to the end) or insert at an arbitrary index."
      ],
      "metadata": {
        "id": "V_W1K_tdFW8f"
      }
    },
    {
      "cell_type": "markdown",
      "source": [
        "Iterating. Iterating over a list is very simple. All iterables in Python allow access to elements using the for ... in statement. In this structure, each element in the iterable is sequentially assigned to the \"loop variable\" for a single pass of the loop, during which the enclosed block is executed."
      ],
      "metadata": {
        "id": "IdiQfPMRFdip"
      }
    },
    {
      "cell_type": "markdown",
      "source": [
        "## Loops\n",
        "\n",
        "In general, statements are executed sequentially: The first statement in a function is executed first, followed by the second, and so on. There may be a situation when you need to execute a block of code several number of times.\n",
        "\n",
        "Programming languages provide various control structures that allow for more complicated execution paths.\n",
        "\n",
        "### For loop\n",
        "\n",
        "The for loop in Python is used to iterate over a sequence (list, tuple, string) or other iterable objects. Iterating over a sequence is called traversal.\n",
        "\n",
        "Loop continues until we reach the last item in the sequence. The body of for loop is separated from the rest of the code using indentation.\n",
        "\n"
      ],
      "metadata": {
        "id": "NBXagebsFp6I"
      }
    },
    {
      "cell_type": "markdown",
      "source": [
        "### for loop with else\n",
        "A for loop can have an optional else block as well. The else part is executed if the items in the sequence used in for loop exhausts.\n",
        "\n",
        "break statement can be used to stop a for loop. In such case, the else part is ignored.\n",
        "\n",
        "Hence, a for loop's else part runs if no break occurs.\n",
        "\n",
        "Here is an example to illustrate this."
      ],
      "metadata": {
        "id": "Xbe9Dw0bFupX"
      }
    },
    {
      "cell_type": "markdown",
      "source": [
        "## While loop\n",
        "\n",
        "The while loop in Python is used to iterate over a block of code as long as the test expression (condition) is true.\n",
        "\n",
        "We generally use this loop when we don't know beforehand, the number of times to iterate.\n",
        "\n",
        "In while loop, test expression is checked first. The body of the loop is entered only if the test_expression evaluates to True. After one iteration, the test expression is checked again. This process continues until the test_expression evaluates to False.\n",
        "\n",
        "In Python, the body of the while loop is determined through indentation.\n",
        "\n",
        "Body starts with indentation and the first unindented line marks the end.\n",
        "\n",
        "Python interprets any non-zero value as True. None and 0 are interpreted as False.\n"
      ],
      "metadata": {
        "id": "9YlG-LUFF3kv"
      }
    },
    {
      "cell_type": "markdown",
      "source": [
        "## The range() function\n",
        "We can generate a sequence of numbers using range() function. range(10) will generate numbers from 0 to 9 (10 numbers).\n",
        "\n",
        "We can also define the start, stop and step size as range(start,stop,step size). step size defaults to 1 if not provided.\n",
        "\n",
        "This function does not store all the values in memory, it would be inefficient. So it remembers the start, stop, step size and generates the next number on the go.\n",
        "\n",
        "To force this function to output all the items, we can use the function list().\n",
        "\n",
        "The following example will clarify this."
      ],
      "metadata": {
        "id": "Q6poH6seF6mC"
      }
    },
    {
      "cell_type": "markdown",
      "source": [
        "We can use the range() function in for loops to iterate through a sequence of numbers. It can be combined with the len() function to iterate though a sequence using indexing. Here is an example."
      ],
      "metadata": {
        "id": "bPKMP7HHF_3w"
      }
    },
    {
      "cell_type": "markdown",
      "source": [
        "## break and continue statement\n",
        "\n",
        "In Python, break and continue statements can alter the flow of a normal loop.\n",
        "\n",
        "Loops iterate over a block of code until test expression is false, but sometimes we wish to terminate the current iteration or even the whole loop without cheking test expression.\n",
        "\n",
        "The break and continue statements are used in these cases.\n",
        "\n",
        "### break\n",
        "The break statement terminates the loop containing it. Control of the program flows to the statement immediately after the body of the loop.\n",
        "\n",
        "If break statement is inside a nested loop (loop inside another loop), break will terminate the innermost loop.\n"
      ],
      "metadata": {
        "id": "hZvxxTc_GHO6"
      }
    },
    {
      "cell_type": "markdown",
      "source": [
        "In this program, we iterate through the \"string\" sequence. We check if the letter is \"i\", upon which we break from the loop. Hence, we see in our output that all the letters up till \"i\" gets printed. After that, the loop terminates."
      ],
      "metadata": {
        "id": "WKrSVPVSGMA9"
      }
    },
    {
      "cell_type": "markdown",
      "source": [
        "### continue\n",
        "The continue statement is used to skip the rest of the code inside a loop for the current iteration only. Loop does not terminate but continues on with the next iteration."
      ],
      "metadata": {
        "id": "WpjAvMlbGNDL"
      }
    },
    {
      "cell_type": "markdown",
      "source": [
        "This program is same as the above example except the break statement has been replaced with continue.\n",
        "\n",
        "We continue with the loop, if the string is \"i\", not executing the rest of the block. Hence, we see in our output that all the letters except \"i\" gets printed."
      ],
      "metadata": {
        "id": "300rsEHFGSmu"
      }
    },
    {
      "cell_type": "code",
      "source": [],
      "metadata": {
        "id": "I6uqGbweFKSf"
      },
      "execution_count": null,
      "outputs": []
    },
    {
      "cell_type": "markdown",
      "source": [
        "#Researved words\n",
        "1. and\n",
        "as\n",
        "assert\n",
        "break\n",
        "class\n",
        "continue\n",
        "def\n",
        "del\n",
        "elif\n",
        "else\n",
        "except\n",
        "finally\n",
        "global\n",
        "if\n",
        "import\n",
        "in\n",
        "is\n",
        "lambda\n",
        "not\n",
        "or\n",
        "pass\n",
        "raise\n",
        "return\n",
        "try\n",
        "while\n",
        "with\n",
        "yield\n",
        "from\n",
        "for\n",
        "nonlocal"
      ],
      "metadata": {
        "id": "SkFIYu1BDB3I"
      }
    },
    {
      "cell_type": "code",
      "source": [],
      "metadata": {
        "id": "pmVVfIe7sfY6"
      },
      "execution_count": null,
      "outputs": []
    },
    {
      "cell_type": "markdown",
      "source": [
        "Data types in Python"
      ],
      "metadata": {
        "id": "fo7Wj0v-sgSQ"
      }
    },
    {
      "cell_type": "code",
      "source": [
        "#Numeric Data Types\n",
        "\"\"\"\n",
        "1. Integer\n",
        "2. Float-up to 15 decimal places\n",
        "3. Complex\n",
        "\"\"\"\n",
        "#String Data Type\n",
        "\"\"\" 1. String\"\"\"\n",
        "# Sequence Data Type\n",
        "\"\"\" 1. Tuple\n",
        "2. List\n",
        "3. Range\"\"\"\n",
        "list1=[1,2,3,4,5,6,7,\"hello\"]\n",
        "type(list1)\n",
        "print(list1)\n",
        "list1.append(\"world\")\n",
        "print(list1)\n",
        "#creating a list\n",
        "list1=[]\n",
        "print(\"Blank list created\")\n",
        "list1=[19,20,30,40]\n",
        "print(list1)\n",
        "list1=[1,2,3,1,2,3,4,1,2,3,4]\n",
        "list1[2:7:2]\n",
        "list1[5]=\"Hello\"\n",
        "list1\n",
        "#Multidimensional list\n",
        "list3=[[\"Hello\",1,2,3,4,],[\"3\",\"4\",\"hello\",5,6,7]]\n",
        "type(list3)\n",
        "print(list1[-5])\n",
        "len(list1)\n"
      ],
      "metadata": {
        "colab": {
          "base_uri": "https://localhost:8080/"
        },
        "id": "kxCsxUsasie3",
        "outputId": "c5af1a75-7681-492d-a94d-25f05821936f"
      },
      "execution_count": null,
      "outputs": [
        {
          "output_type": "stream",
          "name": "stdout",
          "text": [
            "[1, 2, 3, 4, 5, 6, 7, 'hello']\n",
            "[1, 2, 3, 4, 5, 6, 7, 'hello', 'world']\n",
            "Blank list created\n",
            "[19, 20, 30, 40]\n",
            "4\n"
          ]
        },
        {
          "output_type": "execute_result",
          "data": {
            "text/plain": [
              "11"
            ]
          },
          "metadata": {},
          "execution_count": 20
        }
      ]
    },
    {
      "cell_type": "code",
      "source": [
        "#Input function in python\n",
        "#abc=list(input(\"Enter A Integer value\"))\n",
        "#type(abc)\n",
        "abc\n",
        "#.adding an element in a list\n",
        "#1. append() method\n",
        "abc.append(5)\n",
        "abc"
      ],
      "metadata": {
        "colab": {
          "base_uri": "https://localhost:8080/"
        },
        "id": "5EACk7SVwiwN",
        "outputId": "6873d423-2a59-4a8e-d52b-ef8ab2e18708"
      },
      "execution_count": null,
      "outputs": [
        {
          "output_type": "execute_result",
          "data": {
            "text/plain": [
              "['4', '5', '5', '6', '5', '6', '6', '7', '5', '7', '4', 5, 5]"
            ]
          },
          "metadata": {},
          "execution_count": 31
        }
      ]
    },
    {
      "cell_type": "code",
      "source": [
        "list1=list(map(int,input(\"Enter list elements:\").split()))[:4]\n"
      ],
      "metadata": {
        "colab": {
          "base_uri": "https://localhost:8080/"
        },
        "id": "qV2Se1GQyA6x",
        "outputId": "b2f2b30b-7ed3-458b-ddcf-ff0ebad2ad89"
      },
      "execution_count": null,
      "outputs": [
        {
          "name": "stdout",
          "output_type": "stream",
          "text": [
            "Enter list elements:34 56 56 434 454 565\n"
          ]
        }
      ]
    },
    {
      "cell_type": "code",
      "source": [
        "\n",
        "for i in range(1, 20):\n",
        "    print(\"Hello world\")\n",
        "    if(i==15):\n",
        "        i=17\n",
        "        print(\"i when i==15\",i)\n",
        "        break\n",
        "    else:\n",
        "        continue\n",
        "    print(\"VAlue of i is\",i)\n",
        "else:\n",
        "    print(\"Hello MSC Machine Learning \")"
      ],
      "metadata": {
        "colab": {
          "base_uri": "https://localhost:8080/"
        },
        "id": "o0cMKwilz5WC",
        "outputId": "5e389ef5-bd45-4065-d916-88a48fd4251f"
      },
      "execution_count": null,
      "outputs": [
        {
          "output_type": "stream",
          "name": "stdout",
          "text": [
            "Hello world\n",
            "Hello world\n",
            "Hello world\n",
            "Hello world\n",
            "Hello world\n",
            "Hello world\n",
            "Hello world\n",
            "Hello world\n",
            "Hello world\n",
            "Hello world\n",
            "Hello world\n",
            "Hello world\n",
            "Hello world\n",
            "Hello world\n",
            "Hello world\n",
            "i when i==15 17\n"
          ]
        }
      ]
    },
    {
      "cell_type": "code",
      "source": [
        "i = 0\n",
        "for i in range(10):\n",
        "    if i == 6:\n",
        "        i = 3\n",
        "        continue\n",
        "    print(\"The value of i is:\", i)"
      ],
      "metadata": {
        "colab": {
          "base_uri": "https://localhost:8080/"
        },
        "id": "4V4yrE1n6SIc",
        "outputId": "d207afef-5cfb-42ce-873a-cf99dd16da19"
      },
      "execution_count": null,
      "outputs": [
        {
          "output_type": "stream",
          "name": "stdout",
          "text": [
            "The value of i is: 0\n",
            "The value of i is: 1\n",
            "The value of i is: 2\n",
            "The value of i is: 3\n",
            "The value of i is: 4\n",
            "The value of i is: 5\n",
            "The value of i is: 7\n",
            "The value of i is: 8\n",
            "The value of i is: 9\n"
          ]
        }
      ]
    },
    {
      "cell_type": "code",
      "source": [
        "i=0\n",
        "while i in range(10):\n",
        "   print(i,end=\" \")\n",
        "   i=i+1"
      ],
      "metadata": {
        "colab": {
          "base_uri": "https://localhost:8080/"
        },
        "id": "GTJW9ZUnR1jr",
        "outputId": "33a6b492-e72e-4cc5-c2d5-7f852a0a0fa9"
      },
      "execution_count": null,
      "outputs": [
        {
          "output_type": "stream",
          "name": "stdout",
          "text": [
            "0 1 2 3 4 5 6 7 8 9 "
          ]
        }
      ]
    },
    {
      "cell_type": "code",
      "source": [
        "list1"
      ],
      "metadata": {
        "colab": {
          "base_uri": "https://localhost:8080/"
        },
        "id": "8invR0-Hy14w",
        "outputId": "01bacda4-f400-4a38-cd67-9ed7338f077b"
      },
      "execution_count": null,
      "outputs": [
        {
          "output_type": "execute_result",
          "data": {
            "text/plain": [
              "[34, 56, 56, 434]"
            ]
          },
          "metadata": {},
          "execution_count": 38
        }
      ]
    },
    {
      "cell_type": "code",
      "source": [
        "#check if a string is palindrome or not.\n",
        "str=\"malayalam\"\n",
        "str1=str[: : -1]\n",
        "print(str1)\n",
        "if(str==str1):\n",
        "  print(\"String is palindrome\")\n",
        "else:\n",
        "  print(\"String is not palindrome\")"
      ],
      "metadata": {
        "colab": {
          "base_uri": "https://localhost:8080/"
        },
        "id": "kTYT2nrKmdet",
        "outputId": "55bc8e15-ae4b-42e7-82b9-13cf50ba577e"
      },
      "execution_count": null,
      "outputs": [
        {
          "output_type": "stream",
          "name": "stdout",
          "text": [
            "malayalam\n",
            "String is palindrome\n"
          ]
        }
      ]
    },
    {
      "cell_type": "code",
      "source": [
        "\n"
      ],
      "metadata": {
        "id": "2E16hAMApLIp"
      },
      "execution_count": null,
      "outputs": []
    },
    {
      "cell_type": "code",
      "source": [
        "#Write a Python program to check if a string contains all the letters of the alphabet\n",
        "import string\n",
        "string1=set(string.ascii_lowercase)\n",
        "string2 = \"The quick brown fox jumps over the lazy dog\"\n",
        "string3=\"Python is an object-oriented programming language\"\n",
        "count=0\n",
        "for letter in string1:\n",
        "    if letter not in string3:\n",
        "       print(\"False\")\n",
        "       break\n",
        "    else:\n",
        "      count=count+1\n",
        "print(count)\n",
        "if(count==26):\n",
        "  print(\"True\")\n"
      ],
      "metadata": {
        "colab": {
          "base_uri": "https://localhost:8080/"
        },
        "id": "DCdY8SCHqE18",
        "outputId": "134c63bb-fada-499b-f11a-5c9141ff3b80"
      },
      "execution_count": null,
      "outputs": [
        {
          "output_type": "stream",
          "name": "stdout",
          "text": [
            "False\n",
            "4\n"
          ]
        }
      ]
    },
    {
      "cell_type": "code",
      "source": [
        "#. Write a Python program to find the longest word in a string.\n",
        "\n",
        "string = \"Python supports multiple paradigms, including object-oriented,  imperative, functional, and procedural features.\"\n",
        "longest_word=\"\"\n",
        "for word in string.split():\n",
        "  if(len(word)>len(longest_word)):\n",
        "    longest_word=word\n",
        "print(longest_word)"
      ],
      "metadata": {
        "colab": {
          "base_uri": "https://localhost:8080/"
        },
        "id": "xMuwY0KwrY5q",
        "outputId": "5b1d2fab-85b7-46b0-b53f-144a22109f4c"
      },
      "execution_count": null,
      "outputs": [
        {
          "output_type": "stream",
          "name": "stdout",
          "text": [
            "object-oriented,\n"
          ]
        }
      ]
    },
    {
      "cell_type": "code",
      "source": [
        "#Write a Python program to count the number of vowels in a string.\n",
        "\n",
        "\n",
        "string = \"Python supports multiple paradigms, including object-oriented,  imperative, functional, and procedural features.\"\n",
        "vowels = \"aeiouAEIOU\"\n",
        "count = 0\n",
        "for letter in string:\n",
        "   if letter in vowels:\n",
        "     count += 1\n",
        "print(f'Number of vowels in string are: {count}')\n",
        "\n"
      ],
      "metadata": {
        "colab": {
          "base_uri": "https://localhost:8080/"
        },
        "id": "Eryc3q4Xsce5",
        "outputId": "81e79809-a3c5-473f-deae-5db7e5723ac8"
      },
      "execution_count": null,
      "outputs": [
        {
          "output_type": "stream",
          "name": "stdout",
          "text": [
            "Number of vowels in string are: 36\n"
          ]
        }
      ]
    },
    {
      "cell_type": "code",
      "source": [
        "#Write a Python program to check if a string is a sentence. A sentence is a string that starts with a capital letter and ends with a period.\n",
        "import re\n",
        "string = \"Python supports multiple paradigms, including object-oriented,  imperative, functional, and procedural features.\"\n",
        "first_letter = string[0]\n",
        "last_letter = string[-1]\n",
        "if(first_letter.isalpha() and first_letter.isupper()):\n",
        "  if(last_letter=='.'):\n",
        "    print(\"String is a sentence\")\n",
        "  else:\n",
        "    print(\"String is not a sentence because it doesnot end up with period\")\n",
        "else:\n",
        "  print(\"string is not a sentence because first letter is not a Capital Letter\")"
      ],
      "metadata": {
        "colab": {
          "base_uri": "https://localhost:8080/"
        },
        "id": "ocMq6GpktZn5",
        "outputId": "f525b456-5da9-47ef-ddf0-b8480f7b558a"
      },
      "execution_count": null,
      "outputs": [
        {
          "output_type": "stream",
          "name": "stdout",
          "text": [
            "String is a sentence\n"
          ]
        }
      ]
    },
    {
      "cell_type": "code",
      "source": [
        "#How to split a string on a specific character?\n",
        "\n",
        "\n",
        "str1 = \"This is a test string.\"\n",
        "char = \" \"\n",
        "substrings = []\n",
        "i = 0\n",
        "while i < len(str1):\n",
        "    if str1[i] == char:\n",
        "      substrings.append(str1[0:i])\n",
        "      str1 = str1[i + 1:]\n",
        "      i = 0\n",
        "    else:\n",
        "      i += 1\n",
        "    if len(str1) > 0:\n",
        "        substrings.append(str1)\n",
        "print(substrings)\n"
      ],
      "metadata": {
        "id": "eArLMKAT6R44",
        "colab": {
          "base_uri": "https://localhost:8080/"
        },
        "outputId": "ae1e1adb-c0e0-442a-cb11-126debf8b0b7"
      },
      "execution_count": null,
      "outputs": [
        {
          "output_type": "stream",
          "name": "stdout",
          "text": [
            "['This is a test string.', 'This is a test string.', 'This is a test string.', 'This is a test string.', 'This', 'is a test string.', 'is a test string.', 'is a test string.', 'is', 'a test string.', 'a test string.', 'a', 'test string.', 'test string.', 'test string.', 'test string.', 'test string.', 'test', 'string.', 'string.', 'string.', 'string.', 'string.', 'string.', 'string.', 'string.']\n"
          ]
        }
      ]
    },
    {
      "cell_type": "code",
      "source": [
        "#Find the sum of the series upto n terms\n",
        "n = 10\n",
        "# first number of sequence\n",
        "start = 4\n",
        "sum_sequence = 0\n",
        "#10\n",
        "# run loop n times\n",
        "for i in range(0, n):\n",
        "    print(start, end=\"+\")\n",
        "    sum_sequence += start #sum_sequence=sum_sequence+start\n",
        "    # calculate the next term\n",
        "    start = start * 10 + 2\n",
        "print(\"\\nSum of the above series is:\", sum_sequence)"
      ],
      "metadata": {
        "colab": {
          "base_uri": "https://localhost:8080/"
        },
        "id": "tfop6xTDt4qi",
        "outputId": "d3062e47-a1fa-44d7-c517-33948f325ac7"
      },
      "execution_count": null,
      "outputs": [
        {
          "output_type": "stream",
          "name": "stdout",
          "text": [
            "4+42+422+4222+42222+422222+4222222+42222222+422222222+4222222222+\n",
            "Sum of the above series is: 4691358022\n"
          ]
        }
      ]
    },
    {
      "cell_type": "code",
      "source": [
        "#Find the sum of the series upto n terms\n",
        "n = 14\n",
        "# first number of sequence\n",
        "start = 4\n",
        "sum_sequence = 0\n",
        "#10\n",
        "# run loop n times\n",
        "n1=4\n",
        "sum_sequence=((n*(n+1))/2)-((n1*(n1+1))/2)\n",
        "\n",
        "print(\"\\nSum of the above series is:\", sum_sequence)"
      ],
      "metadata": {
        "colab": {
          "base_uri": "https://localhost:8080/"
        },
        "id": "eUY7MGa93Oqq",
        "outputId": "0c8caaad-844b-423d-ca0d-c2359058dc81"
      },
      "execution_count": null,
      "outputs": [
        {
          "output_type": "stream",
          "name": "stdout",
          "text": [
            "\n",
            "Sum of the above series is: 95.0\n"
          ]
        }
      ]
    },
    {
      "cell_type": "code",
      "source": [
        "#Fibonacci Series\n",
        "# first two numbers\n",
        "\n",
        "num1, num2 = 0, 1 #multiple variables num1=0, num2=1\n",
        "\"\"\"0+1+1+2+5+3+8+....\"\"\" #res+=\n",
        "print(\"Fibonacci sequence:\")\n",
        "# run loop for 6 times\n",
        "for i in range(10): #range(0,6,1)\n",
        "    # print next number of a series\n",
        "    print(num1, end=\"  \")\n",
        "    # add last two numbers to get next number\n",
        "    res = num1 + num2\n",
        "    # update values\n",
        "    num1 = num2\n",
        "    num2 = res"
      ],
      "metadata": {
        "colab": {
          "base_uri": "https://localhost:8080/"
        },
        "id": "PBsWZA40uq3R",
        "outputId": "227e3335-f260-405b-bc7e-94bcefa3edc4"
      },
      "execution_count": null,
      "outputs": [
        {
          "output_type": "stream",
          "name": "stdout",
          "text": [
            "Fibonacci sequence:\n",
            "0  1  1  2  3  5  8  13  21  34  "
          ]
        }
      ]
    },
    {
      "cell_type": "code",
      "source": [
        "#Find the factorial of a given number\n",
        "num = 6\n",
        "factorial = 1\n",
        "if num < 0:\n",
        "    print(\"Factorial does not exist for negative numbers\")\n",
        "elif num == 0:\n",
        "    print(\"The factorial of 0 is 1\")\n",
        "else:\n",
        "    # run loop 6 times\n",
        "    for i in range(1, num + 1):\n",
        "        # multiply factorial by current number\n",
        "        factorial = factorial * i\n",
        "    print(\"The factorial of\", num, \"is\", factorial)"
      ],
      "metadata": {
        "id": "kR9Q5WWlu8k7"
      },
      "execution_count": null,
      "outputs": []
    },
    {
      "cell_type": "code",
      "source": [
        "#Find the factorial of a list of numbers\n",
        "num=[5,4,6,7,8,20,50]\n",
        "for i in range(len(num)):\n",
        "    factorial=1\n",
        "    for j in range(1,num[i]+1):\n",
        "        factorial=factorial*j\n",
        "    print(\"The factorial of\", num[i], \"is\", factorial)\n",
        "print(type(factorial))\n"
      ],
      "metadata": {
        "colab": {
          "base_uri": "https://localhost:8080/"
        },
        "id": "0W6scBts7pKZ",
        "outputId": "39c94c07-21b4-4922-c515-a159c7592a1c"
      },
      "execution_count": null,
      "outputs": [
        {
          "output_type": "stream",
          "name": "stdout",
          "text": [
            "The factorial of 5 is 120\n",
            "The factorial of 4 is 24\n",
            "The factorial of 6 is 720\n",
            "The factorial of 7 is 5040\n",
            "The factorial of 8 is 40320\n",
            "The factorial of 20 is 2432902008176640000\n",
            "The factorial of 50 is 30414093201713378043612608166064768844377641568960512000000000000\n",
            "<class 'int'>\n"
          ]
        }
      ]
    },
    {
      "cell_type": "code",
      "source": [
        "#Use a loop to display elements from a given list present at odd index positions\n",
        "my_list = [10, 20, 30, 40, 50, 60, 70, 80, 90, 100,110,120,130,140]\n",
        "# stat from index 1 with step 2( means 1, 3, 5, an so on)\n",
        "for i in my_list[1::2]:\n",
        "    print(i, end=\" \")\n"
      ],
      "metadata": {
        "colab": {
          "base_uri": "https://localhost:8080/"
        },
        "id": "FBzZPOslvaVC",
        "outputId": "189c07d9-f624-4aa2-9622-5775b3871fde"
      },
      "execution_count": null,
      "outputs": [
        {
          "output_type": "stream",
          "name": "stdout",
          "text": [
            "20 40 60 80 100 120 140 "
          ]
        }
      ]
    },
    {
      "cell_type": "code",
      "source": [
        "\"\"\"Write a program to print the following start pattern using the for loop\n",
        "*\n",
        "* *\n",
        "* * *\n",
        "* * * *\n",
        "* * * * *\n",
        "* * * *\n",
        "* * *\n",
        "* *\n",
        "*\n",
        "*\n",
        "**\n",
        "***\n",
        "**\n",
        "*\n",
        "\"\"\"\n",
        "rows = 6\n",
        "for i in range(0, rows):\n",
        "    for j in range(0, i + 1):\n",
        "        print(\"*\", end=' ')\n",
        "    print(\"\\r\")\n",
        "\n",
        "for i in range(rows, 0, -1):\n",
        "    for j in range(0, i - 1):\n",
        "        print(\"*\", end=' ')\n",
        "    print(\"\\r\")\n",
        "\n"
      ],
      "metadata": {
        "colab": {
          "base_uri": "https://localhost:8080/"
        },
        "id": "FoujlXJ4vwIv",
        "outputId": "408242a5-b017-42a7-b6f8-fec90fa5279b"
      },
      "execution_count": null,
      "outputs": [
        {
          "output_type": "stream",
          "name": "stdout",
          "text": [
            "Enter number of rows:6\n",
            "* \n",
            "* * \n",
            "* * * \n",
            "* * * * \n",
            "* * * * * \n",
            "* * * * * * \n",
            "* * * * * \n",
            "* * * * \n",
            "* * * \n",
            "* * \n",
            "* \n",
            "\n"
          ]
        }
      ]
    },
    {
      "cell_type": "code",
      "source": [
        "\"\"\"Write a program to print the following start pattern using the for loop\n",
        "    *\n",
        "* *\n",
        "* * *\n",
        "* * * *\n",
        "* * * * *\n",
        "* * * *\n",
        "* * *\n",
        "* *\n",
        "*\n",
        "\"\"\"\n",
        "rows = 6\n",
        "for j in range(1, rows+1):\n",
        "  print(\"* \" * j)\n",
        "for i in range(rows,0,-1):\n",
        "  print(\"* \"*i)\n"
      ],
      "metadata": {
        "id": "0FU7LzIEwaeW"
      },
      "execution_count": null,
      "outputs": []
    },
    {
      "cell_type": "code",
      "source": [
        "\"\"\"\n",
        "      *\n",
        "    * * *\n",
        "  * * * * *\n",
        "* * * * * * *\n",
        "  * * * * *\n",
        "    * * *\n",
        "      *\n",
        "\"\"\"\n",
        "rows = 7\n",
        "k = 2 * rows - 2\n",
        "for i in range(0, rows,1):\n",
        "    for j in range(0, k):\n",
        "        print(end=\" \")\n",
        "    k = k - 1\n",
        "    for j in range(0, i + 1):\n",
        "          print(\"* \", end=\"\")\n",
        "    print(\"\")\n",
        "\n",
        "k = rows - 2\n",
        "\n",
        "for i in range(rows, -1, -1):\n",
        "    for j in range(k, 0, -1):\n",
        "        print(end=\" \")\n",
        "    k = k + 1\n",
        "    for j in range(0, i + 1):\n",
        "        print(\"* \", end=\"\")\n",
        "    print(\"\")"
      ],
      "metadata": {
        "id": "rD0oGBumy4cy"
      },
      "execution_count": null,
      "outputs": []
    },
    {
      "cell_type": "code",
      "source": [
        "#Write a program to display all prime numbers within a range\n",
        "start = 2\n",
        "end = 50\n",
        "print(\"Prime numbers between\", start, \"and\", end, \"are:\")\n",
        "\n",
        "for num in range(start, end + 1):\n",
        "    # all prime numbers are greater than 1\n",
        "    # if number is less than or equal to 1, it is not prime\n",
        "    if num > 1:\n",
        "        for i in range(2, num):\n",
        "            # check for factors\n",
        "            if (num % i) == 0:\n",
        "                # not a prime number so break inner loop and\n",
        "                # look for next number\n",
        "                break\n",
        "        else:\n",
        "            print(num)"
      ],
      "metadata": {
        "id": "KnZ6eMoMw_do"
      },
      "execution_count": null,
      "outputs": []
    },
    {
      "cell_type": "code",
      "source": [
        "#python tuple\n",
        "#python dictionaries\n",
        "tuple1=(1,2,3,1,2,4,5,6,7,8)\n",
        "print(type(tuple1))"
      ],
      "metadata": {
        "id": "Fsp175IF34hA",
        "colab": {
          "base_uri": "https://localhost:8080/"
        },
        "outputId": "1627a923-0876-42d2-8d75-14b96ec9cebe"
      },
      "execution_count": null,
      "outputs": [
        {
          "output_type": "stream",
          "name": "stdout",
          "text": [
            "<class 'tuple'>\n"
          ]
        }
      ]
    },
    {
      "cell_type": "code",
      "source": [
        "product1=('abc','abc2','cbx3','item',5)\n",
        "type(product1)"
      ],
      "metadata": {
        "colab": {
          "base_uri": "https://localhost:8080/"
        },
        "id": "dWCOxcvZ0vdw",
        "outputId": "aa4d1079-b694-4ef7-915f-8a9067f0855c"
      },
      "execution_count": null,
      "outputs": [
        {
          "output_type": "execute_result",
          "data": {
            "text/plain": [
              "tuple"
            ]
          },
          "metadata": {},
          "execution_count": 3
        }
      ]
    },
    {
      "cell_type": "code",
      "source": [
        "product1[len(product1)-2]\n",
        "product1[1:4]"
      ],
      "metadata": {
        "colab": {
          "base_uri": "https://localhost:8080/"
        },
        "id": "S1Rqyde01GPM",
        "outputId": "52c888f2-eea1-4aea-c677-f51ea4a4816c"
      },
      "execution_count": null,
      "outputs": [
        {
          "output_type": "execute_result",
          "data": {
            "text/plain": [
              "('abc2', 'cbx3', 'item')"
            ]
          },
          "metadata": {},
          "execution_count": 7
        }
      ]
    },
    {
      "cell_type": "code",
      "source": [
        "product1[2]='abc3'"
      ],
      "metadata": {
        "colab": {
          "base_uri": "https://localhost:8080/",
          "height": 176
        },
        "id": "ZtMvR57m12bm",
        "outputId": "ae916a52-de2a-4436-e50e-faf1205c0341"
      },
      "execution_count": null,
      "outputs": [
        {
          "output_type": "error",
          "ename": "TypeError",
          "evalue": "ignored",
          "traceback": [
            "\u001b[0;31m---------------------------------------------------------------------------\u001b[0m",
            "\u001b[0;31mTypeError\u001b[0m                                 Traceback (most recent call last)",
            "\u001b[0;32m<ipython-input-8-fa3a55fd54d2>\u001b[0m in \u001b[0;36m<cell line: 1>\u001b[0;34m()\u001b[0m\n\u001b[0;32m----> 1\u001b[0;31m \u001b[0mproduct1\u001b[0m\u001b[0;34m[\u001b[0m\u001b[0;36m2\u001b[0m\u001b[0;34m]\u001b[0m\u001b[0;34m=\u001b[0m\u001b[0;34m'abc3'\u001b[0m\u001b[0;34m\u001b[0m\u001b[0;34m\u001b[0m\u001b[0m\n\u001b[0m",
            "\u001b[0;31mTypeError\u001b[0m: 'tuple' object does not support item assignment"
          ]
        }
      ]
    },
    {
      "cell_type": "code",
      "source": [
        "len(product1)"
      ],
      "metadata": {
        "colab": {
          "base_uri": "https://localhost:8080/"
        },
        "id": "t-fOVskq2D-3",
        "outputId": "6f2a4439-51c7-4025-e129-2c75dc35f50c"
      },
      "execution_count": null,
      "outputs": [
        {
          "output_type": "execute_result",
          "data": {
            "text/plain": [
              "5"
            ]
          },
          "metadata": {},
          "execution_count": 9
        }
      ]
    },
    {
      "cell_type": "code",
      "source": [
        "for i in product1:\n",
        "    print(i)"
      ],
      "metadata": {
        "colab": {
          "base_uri": "https://localhost:8080/"
        },
        "id": "s80jALxS2LNJ",
        "outputId": "3de20bb2-40f7-4da5-cca8-1c2b3d4587d4"
      },
      "execution_count": null,
      "outputs": [
        {
          "output_type": "stream",
          "name": "stdout",
          "text": [
            "abc\n",
            "abc2\n",
            "cbx3\n",
            "item\n",
            "5\n"
          ]
        }
      ]
    },
    {
      "cell_type": "code",
      "source": [
        "#Dictionaries\n",
        "Dict={1:'abc',2:'cde',3:'efg'}\n",
        "type(Dict)\n",
        "Dict"
      ],
      "metadata": {
        "colab": {
          "base_uri": "https://localhost:8080/"
        },
        "id": "rMhfzeIY3WXu",
        "outputId": "07bc133d-8afb-4996-d6ba-9f18df79be20"
      },
      "execution_count": null,
      "outputs": [
        {
          "output_type": "execute_result",
          "data": {
            "text/plain": [
              "{1: 'abc', 2: 'cde', 3: 'efg'}"
            ]
          },
          "metadata": {},
          "execution_count": 14
        }
      ]
    },
    {
      "cell_type": "code",
      "source": [
        "Dict[2]='hello'\n",
        "Dict\n",
        "#Time Complexity: O(len(Dict))\n",
        "#Space complexity:O(n)"
      ],
      "metadata": {
        "colab": {
          "base_uri": "https://localhost:8080/"
        },
        "id": "-rZwL0_t4JOL",
        "outputId": "68ff58a6-9df3-466f-e09c-d1460208decf"
      },
      "execution_count": null,
      "outputs": [
        {
          "output_type": "execute_result",
          "data": {
            "text/plain": [
              "{1: 'abc', 2: 'hello', 3: 'efg'}"
            ]
          },
          "metadata": {},
          "execution_count": 17
        }
      ]
    },
    {
      "cell_type": "code",
      "source": [
        "#NEsted Dictionary\n",
        "Dict={1:'hello',2:'abc',3:'def',4:{'a':'Def','b':'dfsd','c':'dfsdffg'}}"
      ],
      "metadata": {
        "id": "4uvJ1npQ48VN"
      },
      "execution_count": null,
      "outputs": []
    },
    {
      "cell_type": "code",
      "source": [
        "#NEsted Dictionary\n",
        "Dict1={1:'hello',2:'abc',3:'def',4:{1:'Def',2:'dfsd',3:'dfsdffg'}}"
      ],
      "metadata": {
        "id": "v2wVlJu35d_Y"
      },
      "execution_count": null,
      "outputs": []
    },
    {
      "cell_type": "code",
      "source": [
        "Dict[4]['a']='sdfsdf'\n",
        "Dict"
      ],
      "metadata": {
        "colab": {
          "base_uri": "https://localhost:8080/"
        },
        "id": "i5Zd5F8x5iUM",
        "outputId": "b775beaa-8a59-4410-938b-d1e756ffcf4c"
      },
      "execution_count": null,
      "outputs": [
        {
          "output_type": "execute_result",
          "data": {
            "text/plain": [
              "{1: 'hello',\n",
              " 2: 'abc',\n",
              " 3: 'def',\n",
              " 4: {'a': 'sdfsdf', 'b': 'dfsd', 'c': 'dfsdffg'}}"
            ]
          },
          "metadata": {},
          "execution_count": 23
        }
      ]
    },
    {
      "cell_type": "code",
      "source": [
        "Dict1[4][1]=454\n",
        "Dict1"
      ],
      "metadata": {
        "colab": {
          "base_uri": "https://localhost:8080/"
        },
        "id": "KjjtfCzH5u8I",
        "outputId": "452fb864-b96d-46c3-9902-2bb92e4ce50a"
      },
      "execution_count": null,
      "outputs": [
        {
          "output_type": "execute_result",
          "data": {
            "text/plain": [
              "{1: 'hello', 2: 'abc', 3: 'def', 4: {1: 454, 2: 'dfsd', 3: 'dfsdffg'}}"
            ]
          },
          "metadata": {},
          "execution_count": 25
        }
      ]
    },
    {
      "cell_type": "code",
      "source": [
        "#Adding an element\n",
        "#update() method\n",
        "Dict2={}\n",
        "Dict2[5]='hello'\n",
        "Dict2[1]='For'\n",
        "Dict2[2]=\"dsf\"\n",
        "Dict2[5]='dsfsfd'\n",
        "Dict2"
      ],
      "metadata": {
        "colab": {
          "base_uri": "https://localhost:8080/"
        },
        "id": "vJ_tKYq3583S",
        "outputId": "75474df9-e343-4e11-c675-b4f7ee0a6e66"
      },
      "execution_count": null,
      "outputs": [
        {
          "output_type": "execute_result",
          "data": {
            "text/plain": [
              "{5: 'dsfsfd', 1: 'For', 2: 'dsf'}"
            ]
          },
          "metadata": {},
          "execution_count": 28
        }
      ]
    },
    {
      "cell_type": "code",
      "source": [
        "Dict2[0]='dfsdf'\n",
        "Dict2"
      ],
      "metadata": {
        "colab": {
          "base_uri": "https://localhost:8080/"
        },
        "id": "y2YPx54g6oUi",
        "outputId": "7b889214-8211-4504-f96b-869847464fbd"
      },
      "execution_count": null,
      "outputs": [
        {
          "output_type": "execute_result",
          "data": {
            "text/plain": [
              "{5: 'dsfsfd', 1: 'For', 2: 'dsf', 0: 'dfsdf'}"
            ]
          },
          "metadata": {},
          "execution_count": 30
        }
      ]
    },
    {
      "cell_type": "code",
      "source": [
        "#Adding a set of values to a single key\n",
        "Dict2['Value_set']=2,3,4,5,6\n",
        "Dict2['Value_set']"
      ],
      "metadata": {
        "colab": {
          "base_uri": "https://localhost:8080/"
        },
        "id": "eb7t3uKq62vN",
        "outputId": "97c82874-00ee-435d-f846-599deeb0bc92"
      },
      "execution_count": null,
      "outputs": [
        {
          "output_type": "execute_result",
          "data": {
            "text/plain": [
              "(2, 3, 4, 5, 6)"
            ]
          },
          "metadata": {},
          "execution_count": 32
        }
      ]
    },
    {
      "cell_type": "code",
      "source": [
        "#Delete an element\n",
        "del(Dict2['Value_set'])\n",
        "Dict2"
      ],
      "metadata": {
        "colab": {
          "base_uri": "https://localhost:8080/"
        },
        "id": "uH2zcItO7VIL",
        "outputId": "2f0d05f8-3bc3-4f0f-fc41-f4e41f919113"
      },
      "execution_count": null,
      "outputs": [
        {
          "output_type": "execute_result",
          "data": {
            "text/plain": [
              "{5: 'dsfsfd', 1: 'For', 2: 'dsf', 0: 'dfsdf'}"
            ]
          },
          "metadata": {},
          "execution_count": 35
        }
      ]
    },
    {
      "cell_type": "code",
      "source": [
        "Dict2.clear()\n"
      ],
      "metadata": {
        "id": "WqeflsUt7hlA"
      },
      "execution_count": null,
      "outputs": []
    },
    {
      "cell_type": "code",
      "source": [
        "Dict2"
      ],
      "metadata": {
        "colab": {
          "base_uri": "https://localhost:8080/"
        },
        "id": "Xn-oefh87mV3",
        "outputId": "1bebf8bb-4d54-4dd7-8fff-fce0beda0406"
      },
      "execution_count": null,
      "outputs": [
        {
          "output_type": "execute_result",
          "data": {
            "text/plain": [
              "{}"
            ]
          },
          "metadata": {},
          "execution_count": 37
        }
      ]
    },
    {
      "cell_type": "code",
      "source": [
        "Dict1.copy()"
      ],
      "metadata": {
        "colab": {
          "base_uri": "https://localhost:8080/"
        },
        "id": "Z5EungwE7o-Y",
        "outputId": "7b7268cf-4a93-4809-9ac7-047102fd9493"
      },
      "execution_count": null,
      "outputs": [
        {
          "output_type": "execute_result",
          "data": {
            "text/plain": [
              "{1: 'hello', 2: 'abc', 3: 'def', 4: {1: 454, 2: 'dfsd', 3: 'dfsdffg'}}"
            ]
          },
          "metadata": {},
          "execution_count": 38
        }
      ]
    },
    {
      "cell_type": "code",
      "source": [
        "Dict1.get(1)\n",
        "Dict1[1]"
      ],
      "metadata": {
        "colab": {
          "base_uri": "https://localhost:8080/",
          "height": 35
        },
        "id": "xNeSc4qv70Gg",
        "outputId": "340d25d0-a883-4aed-9b94-76814016e3fc"
      },
      "execution_count": null,
      "outputs": [
        {
          "output_type": "execute_result",
          "data": {
            "text/plain": [
              "'hello'"
            ],
            "application/vnd.google.colaboratory.intrinsic+json": {
              "type": "string"
            }
          },
          "metadata": {},
          "execution_count": 41
        }
      ]
    },
    {
      "cell_type": "code",
      "source": [
        "Dict1.items()"
      ],
      "metadata": {
        "colab": {
          "base_uri": "https://localhost:8080/"
        },
        "id": "REEb5yHL8CB-",
        "outputId": "cdd3ce64-6ac1-4bc2-e7eb-b4cfac1a2acf"
      },
      "execution_count": null,
      "outputs": [
        {
          "output_type": "execute_result",
          "data": {
            "text/plain": [
              "dict_items([(1, 'hello'), (2, 'abc'), (3, 'def'), (4, {1: 454, 2: 'dfsd', 3: 'dfsdffg'})])"
            ]
          },
          "metadata": {},
          "execution_count": 42
        }
      ]
    },
    {
      "cell_type": "code",
      "source": [
        "Dict1.update(Dict)\n",
        "Dict.popitem()\n",
        "Dict"
      ],
      "metadata": {
        "colab": {
          "base_uri": "https://localhost:8080/"
        },
        "id": "ZZdfUyvL8F0t",
        "outputId": "184b7541-f398-4a43-e338-ab2e9d154c0d"
      },
      "execution_count": null,
      "outputs": [
        {
          "output_type": "execute_result",
          "data": {
            "text/plain": [
              "{1: 'hello', 2: 'abc'}"
            ]
          },
          "metadata": {},
          "execution_count": 50
        }
      ]
    },
    {
      "cell_type": "code",
      "source": [
        "#Indian Flag\n",
        "import numpy as np\n",
        "import matplotlib.pyplot as plt\n",
        "import matplotlib.patches as patches"
      ],
      "metadata": {
        "id": "HZR_xuHKfrgm"
      },
      "execution_count": null,
      "outputs": []
    },
    {
      "cell_type": "code",
      "source": [
        "a=patches.Rectangle((0,1),width=9,height=2,facecolor='#138808', edgecolor='grey')\n",
        "b=patches.Rectangle((0,3),width=9,height=2,facecolor='#ffffff', edgecolor='grey')\n",
        "c=patches.Rectangle((0,5),width=9,height=2,facecolor='#FF6103', edgecolor='grey')"
      ],
      "metadata": {
        "id": "yanqdlSvgAhX"
      },
      "execution_count": null,
      "outputs": []
    },
    {
      "cell_type": "code",
      "source": [
        "#Indian Flag\n",
        "import numpy as np\n",
        "import matplotlib.pyplot as plt\n",
        "import matplotlib.patches as patches\n",
        "a=patches.Rectangle((0,1),width=9,height=2,facecolor='#138808', edgecolor='grey')\n",
        "b=patches.Rectangle((0,3),width=9,height=2,facecolor='#ffffff', edgecolor='grey')\n",
        "c=patches.Rectangle((0,5),width=9,height=2,facecolor='#FF6103', edgecolor='grey')\n",
        "fix, ax=plt.subplots()\n",
        "ax.add_patch(a)\n",
        "ax.add_patch(b)\n",
        "ax.add_patch(c)\n",
        "#Ashok Chakra Circle\n",
        "radius=0.9\n",
        "\n",
        "plt.plot(4.5,4,marker='o',markerfacecolor='#000080',markersize=8)\n",
        "chakra=patches.Circle((4.5,4),radius,color='#000080',fill=False,linewidth=4)\n",
        "ax.add_artist(chakra)\n",
        "#Strokes\n",
        "for i in range(0,24):\n",
        "    angle=2*np.pi * i/24\n",
        "    p=4.5 + radius * np.cos(angle)\n",
        "    q=4.5+ radius *np.cos(angle-np.pi/48)\n",
        "    r=4+radius *np.sin(angle)\n",
        "    s=4+radius * np.sin(angle - np.pi/48)\n",
        "    ax.add_patch(patches.Polygon([[4.5,4],[p,r],[q,s]],fill=True, closed=True , color='#000088'))\n",
        "ax.set_aspect('equal')\n",
        "plt.axis('off')\n",
        "plt.show()"
      ],
      "metadata": {
        "colab": {
          "base_uri": "https://localhost:8080/",
          "height": 367
        },
        "id": "NreGkpZDgagg",
        "outputId": "74f22347-05d9-426b-e9fb-b9529e99e296"
      },
      "execution_count": null,
      "outputs": [
        {
          "output_type": "display_data",
          "data": {
            "text/plain": [
              "<Figure size 640x480 with 1 Axes>"
            ],
            "image/png": "[encoded data removed]"
          },
          "metadata": {}
        }
      ]
    },
    {
      "cell_type": "code",
      "source": [
        "#Python Functions\n",
        "# block of code that performs specific task\n",
        "def Add(x,y):\n",
        "    print(\"dfsfdsf\")\n",
        "    result=x+y\n",
        "    return result\n",
        "print(Add(4,5))\n",
        "\n",
        "Add(10,12)\n",
        "a=56\n",
        "v=56\n",
        "function_name(a,v)\n",
        "\n",
        "#program to create a circle and color it.\n",
        "two functions to solve this problem\n",
        "1. create a circle function\n",
        "2. create a color function"
      ],
      "metadata": {
        "id": "0_SUTpxZiEzi"
      },
      "execution_count": null,
      "outputs": []
    },
    {
      "cell_type": "code",
      "source": [
        "\"\"\"\n",
        "Types of functions:\n",
        "1. pre-defined functions\n",
        "2. user-defined functions\n",
        "\"\"\"\n",
        "int(input())\n",
        "Function arguments: A function can have arguments. An argument is a value that is accepted by a function."
      ],
      "metadata": {
        "id": "IqBb3JQniSd8"
      },
      "execution_count": null,
      "outputs": []
    },
    {
      "cell_type": "code",
      "source": [
        "def mul_number(num1=3, num2=45):\n",
        "    mul=num1*num2\n",
        "    return mul"
      ],
      "metadata": {
        "id": "cBGkmXKth7LS"
      },
      "execution_count": null,
      "outputs": []
    },
    {
      "cell_type": "code",
      "source": [
        "num1=23\n",
        "num2=34\n",
        "mul=mul_number()\n",
        "print(mul)\n",
        "type(mul)"
      ],
      "metadata": {
        "colab": {
          "base_uri": "https://localhost:8080/"
        },
        "id": "73X06Z31IVlo",
        "outputId": "e06ce4eb-02ed-447c-a1b7-466144331bd5"
      },
      "execution_count": null,
      "outputs": [
        {
          "output_type": "stream",
          "name": "stdout",
          "text": [
            "135\n"
          ]
        },
        {
          "output_type": "execute_result",
          "data": {
            "text/plain": [
              "int"
            ]
          },
          "metadata": {},
          "execution_count": 19
        }
      ]
    },
    {
      "cell_type": "code",
      "source": [
        "#List Comprehension\n",
        "list1=[\"abc\",\"abc1\",\"abc2\",\"abc3\",\"def1\",\"sdfsd1\"]\n",
        "newlist=[]\n",
        "for i in list1:\n",
        "    if\"1\" in i:\n",
        "        newlist.append(i)\n",
        "print(newlist)\n"
      ],
      "metadata": {
        "colab": {
          "base_uri": "https://localhost:8080/"
        },
        "id": "UTbsCHOHAnMl",
        "outputId": "141b61cc-ecee-45dd-93f0-0eb516df3722"
      },
      "execution_count": null,
      "outputs": [
        {
          "output_type": "stream",
          "name": "stdout",
          "text": [
            "['abc1', 'def1', 'sdfsd1']\n"
          ]
        }
      ]
    },
    {
      "cell_type": "code",
      "source": [
        "list1=[\"abc\",\"abc1\",\"abc2\",\"abc3\",\"def1\",\"sdfsd1\"]\n",
        "newlist=[i for i in list1 if \"1\" in i]\n",
        "print(newlist)"
      ],
      "metadata": {
        "colab": {
          "base_uri": "https://localhost:8080/"
        },
        "id": "PW4I30hGBkgp",
        "outputId": "e0aa9ec7-2e04-4aa4-f0a8-27ea191e1e27"
      },
      "execution_count": null,
      "outputs": [
        {
          "output_type": "stream",
          "name": "stdout",
          "text": [
            "['abc1', 'def1', 'sdfsd1']\n"
          ]
        }
      ]
    },
    {
      "cell_type": "code",
      "source": [
        "#write a program to finding the transpose of a matrix using list comprehension\n",
        "matrix=[[1,2],[3,4],[5,6],[7,8]]\n",
        "transposed_matrix=[[row[i] for row in matrix] for i in range(2)]\n",
        "print(transposed_matrix)"
      ],
      "metadata": {
        "colab": {
          "base_uri": "https://localhost:8080/"
        },
        "id": "Yezl5BsgDAnN",
        "outputId": "b2a77099-45b5-4727-9703-e46920680a60"
      },
      "execution_count": null,
      "outputs": [
        {
          "output_type": "stream",
          "name": "stdout",
          "text": [
            "[[1, 3, 5, 7], [2, 4, 6, 8]]\n"
          ]
        }
      ]
    },
    {
      "cell_type": "code",
      "source": [],
      "metadata": {
        "id": "299d_BrbIF1F"
      },
      "execution_count": null,
      "outputs": []
    },
    {
      "cell_type": "code",
      "source": [
        "matrix=[[1,2],[3,4],[5,6],[7,8]]\n",
        "transposed_matrix=[[matrix[j][i] for j in range(len(matrix))] for i in range(len(matrix[0]))]\n",
        "print(transposed_matrix)"
      ],
      "metadata": {
        "colab": {
          "base_uri": "https://localhost:8080/"
        },
        "id": "jxn1Qx46FNw-",
        "outputId": "14b94cec-a258-41be-8219-98f88dce088d"
      },
      "execution_count": null,
      "outputs": [
        {
          "output_type": "stream",
          "name": "stdout",
          "text": [
            "[[1, 3, 5, 7], [2, 4, 6, 8]]\n"
          ]
        }
      ]
    },
    {
      "cell_type": "code",
      "source": [
        "matrix=[[1,2],[3,4],[5,6],[7,8]]\n",
        "transposed_matrix = []\n",
        "for i in range(len(matrix[0])):\n",
        "    transposed_row = []\n",
        "    for j in range(len(matrix)):\n",
        "        transposed_row.append(matrix[j][i])\n",
        "    transposed_matrix.append(transposed_row)\n",
        "print(transposed_matrix)"
      ],
      "metadata": {
        "colab": {
          "base_uri": "https://localhost:8080/"
        },
        "id": "kl_vpO2HGMTb",
        "outputId": "26a52a0c-21c2-4557-a6ae-ec1f4498b389"
      },
      "execution_count": null,
      "outputs": [
        {
          "output_type": "stream",
          "name": "stdout",
          "text": [
            "[[1, 3, 5, 7], [2, 4, 6, 8]]\n"
          ]
        }
      ]
    },
    {
      "cell_type": "code",
      "source": [
        "#Program to finding out the elements in a list in which elements are ended\n",
        "with the letter 'b' and the length of that element is greater than 2\n",
        "# program to reverse each string in a tuple with the help of list comprehension"
      ],
      "metadata": {
        "id": "Be0XktwMLsGC"
      },
      "execution_count": null,
      "outputs": []
    },
    {
      "cell_type": "code",
      "source": [
        "#def divide_by_zero():Write a function to compute 5/0 and use try/except to catch the exceptions.\n",
        "def divide_by_zero():\n",
        "    try:\n",
        "        return 5/0\n",
        "    except ZeroDivisionError:\n",
        "        print(\"Division by zero error\")\n",
        "\n",
        "print(divide_by_zero())\n"
      ],
      "metadata": {
        "colab": {
          "base_uri": "https://localhost:8080/"
        },
        "id": "8Tw0BzFI1z3v",
        "outputId": "0e4d3c6d-2057-4711-d56f-bd2be0abd71b"
      },
      "execution_count": null,
      "outputs": [
        {
          "output_type": "stream",
          "name": "stdout",
          "text": [
            "Division by zero error\n",
            "None\n"
          ]
        }
      ]
    },
    {
      "cell_type": "code",
      "source": [
        "\"\"\"#Implement a Python program to generate all sentences where subject is in\n",
        "[\"Americans\", \"Indians\"] and verb is in [\"Play\", \"watch\"] and the object is in\n",
        "[\"Baseball\",\"cricket\"].\"\"\"\n",
        "subjects = [\"Americans\", \"Indians\"]\n",
        "verbs = [\"Play\", \"watch\"]\n",
        "objects = [\"Baseball\", \"cricket\"]\n",
        "\n",
        "for subject in subjects:\n",
        "  for verb in verbs:\n",
        "    for object in objects:\n",
        "      print(f\"{subject} {verb} {object}\")\n"
      ],
      "metadata": {
        "colab": {
          "base_uri": "https://localhost:8080/"
        },
        "id": "LxCrvMmg4amE",
        "outputId": "77e60f48-51c8-4f85-8085-78b629dcefa5"
      },
      "execution_count": null,
      "outputs": [
        {
          "output_type": "stream",
          "name": "stdout",
          "text": [
            "Americans Play Baseball\n",
            "Americans Play cricket\n",
            "Americans watch Baseball\n",
            "Americans watch cricket\n",
            "Indians Play Baseball\n",
            "Indians Play cricket\n",
            "Indians watch Baseball\n",
            "Indians watch cricket\n"
          ]
        }
      ]
    },
    {
      "cell_type": "code",
      "source": [
        "\"\"\"Write a Python Program(with class concepts) to find the area of the triangle using the below\n",
        "formula.\n",
        "area = (s*(s-a)*(s-b)*(s-c)) ** 0.5\"\"\"\n",
        "class Triangle:\n",
        "    def __init__(self, a, b, c):\n",
        "        self.a = a\n",
        "        self.b = b\n",
        "        self.c = c\n",
        "\n",
        "    def calculate_area(self):\n",
        "        s = (self.a + self.b + self.c) / 2\n",
        "        area = (s * (s - self.a) * (s - self.b) * (s - self.c)) ** 0.5\n",
        "        return area\n",
        "\n",
        "\n",
        "# Input side lengths from the user\n",
        "a = float(input(\"Enter the length of side 'a': \"))\n",
        "b = float(input(\"Enter the length of side 'b': \"))\n",
        "c = float(input(\"Enter the length of side 'c': \"))\n",
        "# Create a Triangle object\n",
        "triangle = Triangle(a, b, c)\n",
        "# Calculate and display the area\n",
        "area = triangle.calculate_area()\n",
        "print(f\"The area of the triangle is: {area:.2f}\")\n"
      ],
      "metadata": {
        "colab": {
          "base_uri": "https://localhost:8080/"
        },
        "id": "YkZhuLl84o9Q",
        "outputId": "055b92ac-0de4-47e8-9dfe-e6239894c1a8"
      },
      "execution_count": null,
      "outputs": [
        {
          "output_type": "stream",
          "name": "stdout",
          "text": [
            "Enter the length of side 'a': 5\n",
            "Enter the length of side 'b': 6\n",
            "Enter the length of side 'c': 4\n",
            "The area of the triangle is: 9.92\n"
          ]
        }
      ]
    },
    {
      "cell_type": "code",
      "source": [],
      "metadata": {
        "id": "Dn6kStWN5eeb"
      },
      "execution_count": null,
      "outputs": []
    },
    {
      "cell_type": "markdown",
      "source": [
        "*The* __init__() method in Python is a special method, also known as a constructor, that is automatically called when an object of a class is created. It is used to initialize the attributes or properties of the object. The __init__() method allows you to set initial values for attributes and perform any other setup or configuration that should happen when an object is instantiated.\n",
        "\n",
        "Here's a breakdown of the __init__() method:\n",
        "\n",
        "Method Name: The method name is always __init__, with double underscores before and after the word \"init\". This naming convention makes it a special method in Python.\n",
        "\n",
        "Parameters: The __init__() method takes at least one parameter, typically named self, which refers to the instance of the object being created. It is automatically passed as the first argument to the method when the object is instantiated.\n",
        "\n",
        "Attribute Initialization: Inside the __init__() method, you can set attributes (instance variables) of the object using the self keyword. These attributes will hold the data specific to each instance of the class.\n",
        "\n",
        "Here's a simple example to illustrate the usage of the __init__() method:\n"
      ],
      "metadata": {
        "id": "zX9iUKCQ5hPl"
      }
    },
    {
      "cell_type": "code",
      "source": [
        "class Person:\n",
        "    def __init__(self, name, age):\n",
        "        self.name = name\n",
        "        self.age = age\n",
        "\n",
        "# Creating instances of the Person class\n",
        "person1 = Person(\"Alice\", 30)\n",
        "person2 = Person(\"Bob\", 25)\n",
        "\n",
        "# Accessing attributes of the objects\n",
        "print(person1.name, person1.age)  # Output: Alice 30\n",
        "print(person2.name, person2.age)  # Output: Bob 25\n"
      ],
      "metadata": {
        "colab": {
          "base_uri": "https://localhost:8080/"
        },
        "id": "__yiDMO_5jS9",
        "outputId": "1319d7c3-6042-44c8-e8c3-dd1f34ef5a2c"
      },
      "execution_count": null,
      "outputs": [
        {
          "output_type": "stream",
          "name": "stdout",
          "text": [
            "Alice 30\n",
            "Bob 25\n"
          ]
        }
      ]
    },
    {
      "cell_type": "code",
      "source": [
        "#Write a function filter_long_words() that takes a list of words and an integer n and returns\n",
        "#the list of words that are longer than n.\n",
        "def filter_long_words(word_list, n):\n",
        "    return [word for word in word_list if len(word) > n]\n",
        "\n",
        "# Example usage\n",
        "word_list = [\"python\", \"java\", \"C\", \"C++\", \"ruby\"]\n",
        "n = 5\n",
        "\n",
        "filtered_words = filter_long_words(word_list, n)\n",
        "print(filtered_words)\n"
      ],
      "metadata": {
        "colab": {
          "base_uri": "https://localhost:8080/"
        },
        "id": "8_06p0a15yZh",
        "outputId": "8b3dc1b5-6b5f-47d7-b410-51f8ca617afe"
      },
      "execution_count": null,
      "outputs": [
        {
          "output_type": "stream",
          "name": "stdout",
          "text": [
            "['python']\n"
          ]
        }
      ]
    },
    {
      "cell_type": "code",
      "source": [
        "#Write a Python program using function concept that maps list of words into a list of integers\n",
        "#representing the lengths of the corresponding words.\n",
        "def word_lengths(word_list):\n",
        "    return [len(word) for word in word_list]\n",
        "\n",
        "# Example usage\n",
        "word_list = [\"python\", \"java\", \"C\", \"C++\", \"ruby\"]\n",
        "\n",
        "lengths = word_lengths(word_list)\n",
        "print(lengths)\n"
      ],
      "metadata": {
        "colab": {
          "base_uri": "https://localhost:8080/"
        },
        "id": "-VIkrfkx59H8",
        "outputId": "48bc37ba-ffe6-4fc6-a1ba-2c482de2b69c"
      },
      "execution_count": null,
      "outputs": [
        {
          "output_type": "stream",
          "name": "stdout",
          "text": [
            "[6, 4, 1, 3, 4]\n"
          ]
        }
      ]
    },
    {
      "cell_type": "code",
      "source": [
        "#Write a Python function which takes a character (i.e. a string of length 1) and returns True if\n",
        "#it is a vowel, False otherwise.\n",
        "def is_vowel(char):\n",
        "    vowels = \"aeiouAEIOU\"\n",
        "    return char in vowels\n",
        "# Example usage\n",
        "character = input(\"Enter a character: \")\n",
        "if len(character) == 1:\n",
        "    result = is_vowel(character)\n",
        "    print(f\"The character '{character}' is a vowel: {result}\")\n",
        "else:\n",
        "    print(\"Please enter a single character.\")\n"
      ],
      "metadata": {
        "colab": {
          "base_uri": "https://localhost:8080/"
        },
        "id": "Ue2J2Sll6Khy",
        "outputId": "ef610d5b-b3f8-40f3-adf6-ac7ddbac9cf4"
      },
      "execution_count": null,
      "outputs": [
        {
          "output_type": "stream",
          "name": "stdout",
          "text": [
            "Enter a character: d\n",
            "The character 'd' is a vowel: False\n"
          ]
        }
      ]
    },
    {
      "cell_type": "code",
      "source": [
        "#Write a Python Program to implement your own myreduce() function which works exactly like Python's built-in function reduce()\n",
        "def myreduce(func, sequence, initial=None):\n",
        "    if initial is None:\n",
        "        result = sequence[0]\n",
        "        start_index = 1\n",
        "    else:\n",
        "        result = initial\n",
        "        start_index = 0\n",
        "\n",
        "    for i in range(start_index, len(sequence)):\n",
        "        result = func(result, sequence[i])\n",
        "\n",
        "    return result\n",
        "\n",
        "# Example usage\n",
        "def add(x, y):\n",
        "    return x + y\n",
        "\n",
        "numbers = [1, 2, 3, 4, 5]\n",
        "result = myreduce(add, numbers)\n",
        "print(\"Result using myreduce:\", result)\n"
      ],
      "metadata": {
        "colab": {
          "base_uri": "https://localhost:8080/"
        },
        "id": "7RC8Rg426btm",
        "outputId": "99aa2af3-f4a6-4e79-cad8-0ef3449baaf7"
      },
      "execution_count": null,
      "outputs": [
        {
          "output_type": "stream",
          "name": "stdout",
          "text": [
            "Result using myreduce: 15\n"
          ]
        }
      ]
    },
    {
      "cell_type": "code",
      "source": [
        "#Write a Python program to implement your own myfilter() function which works exactly like Python's built-in function filter()\n",
        "def myfilter(func, sequence):\n",
        "    result = []\n",
        "    for item in sequence:\n",
        "        if func(item):\n",
        "            result.append(item)\n",
        "    return result\n",
        "\n",
        "# Example usage\n",
        "def is_even(x):\n",
        "    return x % 2 == 0\n",
        "\n",
        "numbers = [1, 2, 3, 4, 5, 6, 7, 8, 9, 10]\n",
        "filtered_numbers = myfilter(is_even, numbers)\n",
        "print(\"Filtered numbers using myfilter:\", filtered_numbers)\n"
      ],
      "metadata": {
        "colab": {
          "base_uri": "https://localhost:8080/"
        },
        "id": "d5FHx9Oq6n63",
        "outputId": "47198fc0-3fec-44a4-a380-7196e3e865cc"
      },
      "execution_count": null,
      "outputs": [
        {
          "output_type": "stream",
          "name": "stdout",
          "text": [
            "Filtered numbers using myfilter: [2, 4, 6, 8, 10]\n"
          ]
        }
      ]
    },
    {
      "cell_type": "code",
      "source": [
        "\"\"\"\n",
        "Implement List comprehensions to produce the following lists.\n",
        "Write List comprehensions to produce the following Lists\n",
        "['A', 'C', 'D', 'G', 'I', ’L’]\n",
        "['x', 'xx', 'xxx', 'xxxx', 'y', 'yy', 'yyy', 'yyyy', 'z', 'zz', 'zzz', 'zzzz']\n",
        "['x', 'y', 'z', 'xx', 'yy', 'zz', 'xxx', 'yyy', 'zzz', 'xxxx', 'yyyy', 'zzzz']\n",
        "[[2], [3], [4], [3], [4], [5], [4], [5], [6]] [[2, 3, 4, 5], [3, 4, 5, 6],\n",
        "[4, 5, 6, 7], [5, 6, 7, 8]]\n",
        "[(1, 1), (2, 1), (3, 1), (1, 2), (2, 2), (3, 2), (1, 3), (2, 3), (3, 3)]\n",
        "\"\"\"\n",
        "result = [chr(i) for i in range(ord('A'), ord('Z')+1) if i in [65, 67, 68, 71, 73, 76]]\n",
        "print(result)\n",
        "result = [char * (i + 1) for char in ['x', 'y', 'z'] for i in range(4)]\n",
        "print(result)\n",
        "result = [char * (i + 1) for i in range(4) for char in ['x', 'y', 'z']]\n",
        "print(result)\n",
        "result1 = [[i + j] for i in range(2, 5) for j in range(3)]\n",
        "result2 = [[i + j for i in range(2, 6)] for j in range(4)]\n",
        "print(result1, result2)\n",
        "result = [(j, i) for i in range(1, 4) for j in range(1, 4)]\n",
        "print(result)\n"
      ],
      "metadata": {
        "colab": {
          "base_uri": "https://localhost:8080/"
        },
        "id": "3OqHpZ3y7Jgb",
        "outputId": "dfbe61be-540c-4225-cda3-b4b1a9570ef4"
      },
      "execution_count": null,
      "outputs": [
        {
          "output_type": "stream",
          "name": "stdout",
          "text": [
            "['A', 'C', 'D', 'G', 'I', 'L']\n",
            "['x', 'xx', 'xxx', 'xxxx', 'y', 'yy', 'yyy', 'yyyy', 'z', 'zz', 'zzz', 'zzzz']\n",
            "['x', 'y', 'z', 'xx', 'yy', 'zz', 'xxx', 'yyy', 'zzz', 'xxxx', 'yyyy', 'zzzz']\n",
            "[[2], [3], [4], [3], [4], [5], [4], [5], [6]] [[2, 3, 4, 5], [3, 4, 5, 6], [4, 5, 6, 7], [5, 6, 7, 8]]\n",
            "[(1, 1), (2, 1), (3, 1), (1, 2), (2, 2), (3, 2), (1, 3), (2, 3), (3, 3)]\n"
          ]
        }
      ]
    },
    {
      "cell_type": "code",
      "source": [
        "result1 =[]\n",
        "L1=[65,67,68,71,73,76]\n",
        "for i in range(ord('A'), ord('Z')+1): #ord('A')==65\n",
        "    if i in L1:\n",
        "        result1.append(chr(i))\n",
        "print(result1)"
      ],
      "metadata": {
        "colab": {
          "base_uri": "https://localhost:8080/"
        },
        "id": "By9vaJoRSPG4",
        "outputId": "650728b0-e797-4685-bacf-dbaa0a86a7e1"
      },
      "execution_count": null,
      "outputs": [
        {
          "output_type": "stream",
          "name": "stdout",
          "text": [
            "['A', 'C', 'D', 'G', 'I', 'L']\n"
          ]
        }
      ]
    },
    {
      "cell_type": "code",
      "source": [],
      "metadata": {
        "id": "tzG-o3nWoN8W"
      },
      "execution_count": null,
      "outputs": []
    },
    {
      "cell_type": "markdown",
      "source": [
        "\"\"\"Write a Python program to reverse a word after accepting the input from the user.\"\"\"\n",
        "def reverse_word(word):\n",
        "    return word[::-1]\n",
        "# Get input from the user\n",
        "user_input = input(\"Enter a word: \")\n",
        "# Reverse the word\n",
        "reversed_word = reverse_word(user_input)\n",
        "# Display the reversed word\n",
        "print(\"Reversed word:\", reversed_word)"
      ],
      "metadata": {
        "id": "rhzYPJcI7sqr"
      }
    },
    {
      "cell_type": "markdown",
      "source": [
        "Classes are the foundation of object-oriented\n",
        "programming. Classes represent real-world things\n",
        "you want to model in your programs: for example\n",
        "dogs, cars, and robots. You use a class to make\n",
        "objects, which are specific instances of dogs, cars,\n",
        "and robots. A class defines the general behavior that\n",
        "a whole category of objects can have, and the\n",
        "information that can be associated with those objects.\n",
        " Classes can inherit from each other – you can\n",
        "write a class that extends the functionality of an\n",
        "existing class. This allows you to code efficiently for a\n",
        "wide variety of situations."
      ],
      "metadata": {
        "id": "jczKdEK8kxQ-"
      }
    },
    {
      "cell_type": "code",
      "source": [
        "class car:\n",
        "    \"\"\" a simple model of base class car\"\"\"\n",
        "    def __init__(self,make, model,year):\n",
        "        self.make=make\n",
        "        self.model=model\n",
        "        self.year=year\n",
        "\n",
        "        self.fuel_capacity=15\n",
        "        self.fill_tank=0\n",
        "    def full_tank(self):\n",
        "        self.fill_tank=self.fuel_capacity\n",
        "        print(\"tank is full\")\n",
        "car1=car(\"abc\",\"sdfsdf\",2022)\n",
        "car2=car(\"sdfsdf\",\"dfdsf\",2023)\n",
        "print(car1.make)\n",
        "print(car1.model)\n",
        "print(car1.fuel_capacity)\n",
        "car1.full_tank()"
      ],
      "metadata": {
        "colab": {
          "base_uri": "https://localhost:8080/"
        },
        "id": "pIijU5UToQ9i",
        "outputId": "0494086d-a89f-422f-e8d7-bfcc184b584c"
      },
      "execution_count": 3,
      "outputs": [
        {
          "output_type": "stream",
          "name": "stdout",
          "text": [
            "abc\n",
            "sdfsdf\n",
            "15\n",
            "tank is full\n"
          ]
        }
      ]
    },
    {
      "cell_type": "code",
      "source": [
        "import math\n",
        "class Circle:\n",
        "    def __init__(self,radius):\n",
        "        self.radius=radius\n",
        "    def calculate_area(self):\n",
        "        return round(math.pi*self.radius**2,2)"
      ],
      "metadata": {
        "id": "0rUSC9VPvqWr"
      },
      "execution_count": 7,
      "outputs": []
    },
    {
      "cell_type": "code",
      "source": [],
      "metadata": {
        "id": "65mIQvXUzHwy"
      },
      "execution_count": null,
      "outputs": []
    },
    {
      "cell_type": "code",
      "source": [
        "circle1=Circle(23)\n",
        "circle2=Circle(55)\n",
        "print(circle1.radius)"
      ],
      "metadata": {
        "colab": {
          "base_uri": "https://localhost:8080/"
        },
        "id": "XY-sfhI3wrhL",
        "outputId": "41ddfc5a-d162-4105-f9a0-02415f8d8c5f"
      },
      "execution_count": 15,
      "outputs": [
        {
          "output_type": "stream",
          "name": "stdout",
          "text": [
            "23\n"
          ]
        }
      ]
    },
    {
      "cell_type": "code",
      "source": [
        "#write a Python program to create a calculator\n",
        "#with the help of classes and functions\n",
        "class Calculator:\n",
        "    def __init__(self,x,y):\n",
        "        self.x=x\n",
        "        self.y=y\n",
        "    def Add(self):\n",
        "        return self.x+self.y\n",
        "    def Multiply(self):\n",
        "        return self.x*self.y\n",
        "    def Divide(self):\n",
        "        return self.x/self.y\n",
        "    def floorDivision(self):\n",
        "        return self.x//self.y\n",
        "    def Modulus(self):\n",
        "        return self.x%self.y\n",
        "    def Power(self):\n",
        "        return self.x ** self.y\n",
        "Add1=Calculator(4,4)\n",
        "print(Add1.Add())\n",
        "print(f\"Multiplication of two numbers are: {Add1.Multiply()}\")\n",
        "print(f\"Division of two numbers are: {Add1.Divide()}\")\n",
        "print(f\"Floor Division of two numbers are: {Add1.floorDivision()}\")\n",
        "print(f\"Modulus of two numbers are: {Add1.Modulus()}\")\n",
        "print(f\"Power of two numbers are: {Add1.Power()}\")\n"
      ],
      "metadata": {
        "colab": {
          "base_uri": "https://localhost:8080/"
        },
        "id": "u-pO7JNbzIhs",
        "outputId": "77303450-024e-4f07-d6c9-7609b6e4a4ae"
      },
      "execution_count": 22,
      "outputs": [
        {
          "output_type": "stream",
          "name": "stdout",
          "text": [
            "8\n",
            "Multiplication of two numbers are: 16\n",
            "Division of two numbers are: 1.0\n",
            "Floor Division of two numbers are: 1\n",
            "Modulus of two numbers are: 0\n",
            "Power of two numbers are: 256\n"
          ]
        }
      ]
    },
    {
      "cell_type": "code",
      "source": [
        "def person(name,age,occupation):\n",
        "    person1={\"name\": name,\n",
        "             \"age\": age,\n",
        "             \"occupation\": occupation}\n",
        "    return person1\n",
        "person1=person(\"hello\",34,\"sdfsdf\")\n",
        "print(person1)"
      ],
      "metadata": {
        "colab": {
          "base_uri": "https://localhost:8080/"
        },
        "id": "9DUpaExF5C7-",
        "outputId": "f3895128-fd9f-4b95-a226-cbbc1cc316c2"
      },
      "execution_count": 1,
      "outputs": [
        {
          "output_type": "stream",
          "name": "stdout",
          "text": [
            "{'name': 'hello', 'age': 34, 'occupation': 'sdfsdf'}\n"
          ]
        }
      ]
    },
    {
      "cell_type": "code",
      "source": [
        "person2={\"abc\":{},\"abc1\":{},\"abc2\",{}}"
      ],
      "metadata": {
        "id": "RiHFOeFe9Zxc"
      },
      "execution_count": null,
      "outputs": []
    }
  ]
}